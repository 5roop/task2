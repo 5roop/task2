{
 "cells": [
  {
   "cell_type": "code",
   "execution_count": 1,
   "metadata": {},
   "outputs": [
    {
     "name": "stdout",
     "output_type": "stream",
     "text": [
      "a: [1.10034417 0.90217248 1.06442371 1.10204442 1.11347455]\n",
      "b: [0.94551405 0.96370377 0.62671914 0.60299693 0.79893826]\n"
     ]
    }
   ],
   "source": [
    "import numpy as np\n",
    "a = np.random.normal(1, 0.1, 5)\n",
    "b = np.random.normal(0.8, 0.1, 5)\n",
    "print(f\"a: {a}\\nb: {b}\")"
   ]
  },
  {
   "cell_type": "code",
   "execution_count": 3,
   "metadata": {},
   "outputs": [
    {
     "name": "stdout",
     "output_type": "stream",
     "text": [
      "Wilcoxon p value: 6.250e-02 \t\t(alternative hypothesis: first is greater than the second)\n",
      "MannWhithey p value: 1.836e-02 \t\t(alternative hypothesis: first is greater than the second)\n",
      "Student p value: 1.391e-02 \t\t(null hypothesis: samples have identical average, equal variance is assumed but not necessary)\n"
     ]
    }
   ],
   "source": [
    "from scipy import stats\n",
    "\n",
    "print(f\"Wilcoxon p value: {stats.wilcoxon(a, b, alternative='greater')[1]:0.3e}\", \"\\t\\t(alternative hypothesis: first is greater than the second)\")\n",
    "\n",
    "print(f\"MannWhithey p value: {stats.mannwhitneyu(a,b, alternative='greater')[1]:0.3e}\", \"\\t\\t(alternative hypothesis: first is greater than the second)\")\n",
    "\n",
    "print(f\"Student p value: {stats.ttest_ind(a,b)[1]:0.3e}\", \"\\t\\t(null hypothesis: samples have identical average, equal variance is assumed but not necessary)\")"
   ]
  },
  {
   "cell_type": "code",
   "execution_count": null,
   "metadata": {},
   "outputs": [],
   "source": []
  }
 ],
 "metadata": {
  "kernelspec": {
   "display_name": "Python 3",
   "language": "python",
   "name": "python3"
  },
  "language_info": {
   "codemirror_mode": {
    "name": "ipython",
    "version": 3
   },
   "file_extension": ".py",
   "mimetype": "text/x-python",
   "name": "python",
   "nbconvert_exporter": "python",
   "pygments_lexer": "ipython3",
   "version": "3.8.3"
  }
 },
 "nbformat": 4,
 "nbformat_minor": 4
}
