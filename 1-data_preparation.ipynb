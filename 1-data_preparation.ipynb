{
 "cells": [
  {
   "cell_type": "code",
   "execution_count": 20,
   "metadata": {},
   "outputs": [],
   "source": [
    "import pandas as pd\n",
    "import numpy as np\n",
    "import torch\n",
    "\n",
    "\n",
    "\n",
    "def read_file(fname: str, correct_labels=False) -> pd.DataFrame:\n",
    "    \"\"\"Reads a filename, return df with text and labels.\"\"\"\n",
    "\n",
    "    df = pd.read_table(fname, sep=\"\\t\", header=None, names=\"text,labels,role\".split(\",\"))\n",
    "    if correct_labels:\n",
    "        offensive_ids = df.labels != \"Acceptable speech\"\n",
    "        df.labels[offensive_ids] = True\n",
    "        df.labels[~offensive_ids] = False\n",
    "\n",
    "    #f = df.drop(columns=[\"role\"])\n",
    "    return df\n",
    "\n",
    "\n",
    "\n",
    "for language in \"hr,sl,en\".split(\",\"):\n",
    "    for segment in [\"train\", \"test\"]:\n",
    "        first_fname = f\"../data/lgbt-{language}.{segment}.tsv\"\n",
    "        second_fname = f\"../data/migrants-{language}.{segment}.tsv\"\n",
    "        \n",
    "        first = read_file(first_fname)\n",
    "        second = read_file(second_fname)\n",
    "        \n",
    "        joined = pd.concat([first, second])\n",
    "        shuffled = joined.sample(frac=1, random_state=42)\n",
    "        \n",
    "        final_fname = f\"../data/merged-{language}.{segment}.tsv\"\n",
    "        shuffled.to_csv(final_fname, index=False, sep=\"\\t\", header=False)"
   ]
  },
  {
   "cell_type": "code",
   "execution_count": 18,
   "metadata": {},
   "outputs": [
    {
     "name": "stdout",
     "output_type": "stream",
     "text": [
      "../data/merged-en.test.tsv   ../data/merged-hr.train.tsv\n",
      "../data/merged-en.train.tsv  ../data/merged-sl.test.tsv\n",
      "../data/merged-hr.test.tsv   ../data/merged-sl.train.tsv\n"
     ]
    }
   ],
   "source": [
    "!ls ../data/merged*"
   ]
  },
  {
   "cell_type": "code",
   "execution_count": 21,
   "metadata": {},
   "outputs": [
    {
     "name": "stdout",
     "output_type": "stream",
     "text": [
      "That still means that about 10% of society is receiving 51% of provision. Fine if we actually had a comprehensive care system but in effect it will lead to people being discriminated against based on gender\\sexuality.\tAcceptable speech\tNo target\n",
      "You idiot\tOther offensive\tCommenter\n",
      "Thank you for helping changing the term https://www.youtube.com/watch?v=dKfdPw1bR-A\tAcceptable speech\tNo target\n",
      "You heard it here folks , as houris has spoken , their intentions are clear , to overthrow European governments and inhabitants , with their own misinterpreted views , we need to act now , the fret is real , Europe is been invaded , close each border , don't feed them ,give them water and tell them to move along and go back where they came and gets refund from the people smugglers !\tBackground offensive\tTopic\n",
      "Good signs for people awaiting for divine punishment of the devilish american satanic regime\tBackground offensive\tTopic\n"
     ]
    }
   ],
   "source": [
    "!head -n 5 ../data/merged-en.test.tsv"
   ]
  },
  {
   "cell_type": "code",
   "execution_count": null,
   "metadata": {},
   "outputs": [],
   "source": []
  }
 ],
 "metadata": {
  "kernelspec": {
   "display_name": "Python 3",
   "language": "python",
   "name": "python3"
  },
  "language_info": {
   "codemirror_mode": {
    "name": "ipython",
    "version": 3
   },
   "file_extension": ".py",
   "mimetype": "text/x-python",
   "name": "python",
   "nbconvert_exporter": "python",
   "pygments_lexer": "ipython3",
   "version": "3.8.3"
  }
 },
 "nbformat": 4,
 "nbformat_minor": 4
}
